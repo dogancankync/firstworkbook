{
 "cells": [
  {
   "cell_type": "code",
   "execution_count": 8,
   "metadata": {},
   "outputs": [
    {
     "name": "stdout",
     "output_type": "stream",
     "text": [
      "Enter a number: 2\n",
      "Enter another number: 3\n",
      "5.0\n"
     ]
    }
   ],
   "source": [
    "num1 = input(\"Enter a number: \")\n",
    "num2 = input(\"Enter another number: \")\n",
    "result = float(num1) +float(num2)\n",
    "print(result)"
   ]
  },
  {
   "cell_type": "code",
   "execution_count": 13,
   "metadata": {},
   "outputs": [
    {
     "name": "stdout",
     "output_type": "stream",
     "text": [
      "Enter a color: \n",
      "Enter a plural noun: \n",
      "Enter a celebrity: \n",
      "Roses are \n",
      " are blue.\n",
      "Things are a bit \n"
     ]
    }
   ],
   "source": [
    "## MAdLIBS GAME\n",
    "\n",
    "color = input(\"Enter a color: \")\n",
    "plural_noun= input(\"Enter a plural noun: \")\n",
    "celebrity = input(\"Enter a celebrity: \")\n",
    "print(\"Roses are \" + color)\n",
    "print( plural_noun +  \" are blue.\")\n",
    "print(\"Things are a bit \" + celebrity)\n"
   ]
  },
  {
   "cell_type": "code",
   "execution_count": 11,
   "metadata": {},
   "outputs": [],
   "source": [
    "## Lists "
   ]
  },
  {
   "cell_type": "code",
   "execution_count": 43,
   "metadata": {},
   "outputs": [
    {
     "name": "stdout",
     "output_type": "stream",
     "text": [
      "['son', 'jon', 'don']\n",
      "['don', 'jon', 'son', 1, 2, 3, 452, 54, 51, 1234]\n",
      "['don', 'jon', 'son', 1, 2, 3, 452, 54, 51, 1234, 'creeds']\n",
      "['don', 'jon', 'son', 1, 2, 'popolov', 3, 452, 54, 51, 1234, 'creeds']\n",
      "['don', 'jon', 1, 2, 'popolov', 3, 452, 54, 51, 1234, 'creeds']\n",
      "['don', 'jon', 1, 2, 'popolov', 3, 452, 54, 51, 1234]\n",
      "2\n"
     ]
    }
   ],
   "source": [
    "friends = [\"don\",\"jon\",\"son\"]\n",
    "print(friends[::-1])\n",
    "luck_numbers=[1,2,3,452,54,51,1234]\n",
    "luck_numbers[::-1]\n",
    "friends.extend(luck_numbers)\n",
    "print(friends)\n",
    "friends.append(\"creeds\")\n",
    "print(friends)\n",
    "friends.insert(5, \"popolov\")\n",
    "print(friends)\n",
    "friends.remove(\"son\")\n",
    "print(friends)\n",
    "friends.pop()\n",
    "print(friends)\n",
    "print(friends.index(1))\n"
   ]
  },
  {
   "cell_type": "code",
   "execution_count": 44,
   "metadata": {},
   "outputs": [
    {
     "name": "stdout",
     "output_type": "stream",
     "text": [
      "1\n"
     ]
    }
   ],
   "source": [
    "print(friends.count(1))"
   ]
  },
  {
   "cell_type": "code",
   "execution_count": 54,
   "metadata": {},
   "outputs": [
    {
     "name": "stdout",
     "output_type": "stream",
     "text": [
      "[64536, 5234, 4, 5431, 3, 2, 1]\n"
     ]
    }
   ],
   "source": [
    "nums = [1,2,3,5431,4,5234,64536]\n",
    "nums.reverse()\n",
    "print(nums)"
   ]
  },
  {
   "cell_type": "code",
   "execution_count": 55,
   "metadata": {},
   "outputs": [
    {
     "name": "stdout",
     "output_type": "stream",
     "text": [
      "(4, 5)\n"
     ]
    }
   ],
   "source": [
    "coordinates = (4,5)\n",
    "\n",
    "print(coordinates)"
   ]
  },
  {
   "cell_type": "code",
   "execution_count": 63,
   "metadata": {},
   "outputs": [
    {
     "data": {
      "text/plain": [
       "5"
      ]
     },
     "execution_count": 63,
     "metadata": {},
     "output_type": "execute_result"
    }
   ],
   "source": [
    "coordinates[1] "
   ]
  },
  {
   "cell_type": "code",
   "execution_count": 65,
   "metadata": {},
   "outputs": [],
   "source": [
    "def cuber(num):\n",
    "    \n",
    "    return num**3\n",
    "    "
   ]
  },
  {
   "cell_type": "code",
   "execution_count": 66,
   "metadata": {},
   "outputs": [
    {
     "data": {
      "text/plain": [
       "8"
      ]
     },
     "execution_count": 66,
     "metadata": {},
     "output_type": "execute_result"
    }
   ],
   "source": [
    "cuber(2)"
   ]
  },
  {
   "cell_type": "code",
   "execution_count": 74,
   "metadata": {},
   "outputs": [
    {
     "name": "stdout",
     "output_type": "stream",
     "text": [
      "You are a male and you are tall!\n"
     ]
    }
   ],
   "source": [
    "is_male = True\n",
    "is_tall = True \n",
    "\n",
    "if is_male and is_tall:\n",
    "    print(\"You are a male and you are tall!\")\n",
    "else:\n",
    "    print(\"You are not a male or you are not tall!\")"
   ]
  },
  {
   "cell_type": "code",
   "execution_count": 78,
   "metadata": {},
   "outputs": [
    {
     "name": "stdout",
     "output_type": "stream",
     "text": [
      "You are not male but you are tall!\n"
     ]
    }
   ],
   "source": [
    "\n",
    "is_male = False\n",
    "is_tall = True\n",
    "\n",
    "if is_male and is_tall:\n",
    "    print(\"You are a male and you are tall!\")\n",
    "elif is_male and not(is_tall):\n",
    "    print(\"You are a male but not tall\")\n",
    "elif not(is_male) and is_tall:\n",
    "    print(\"You are not male but you are tall!\")\n",
    "else:\n",
    "    print(\"You are not a male or you are not tall!\")"
   ]
  },
  {
   "cell_type": "code",
   "execution_count": 80,
   "metadata": {},
   "outputs": [],
   "source": [
    "def max_num(a,b,c):\n",
    "    if a >= b and a >= c:\n",
    "        return a \n",
    "    elif b >=a and b >= c:\n",
    "        return b\n",
    "    else:\n",
    "        return c\n",
    "        "
   ]
  },
  {
   "cell_type": "code",
   "execution_count": 90,
   "metadata": {},
   "outputs": [
    {
     "data": {
      "text/plain": [
       "7895"
      ]
     },
     "execution_count": 90,
     "metadata": {},
     "output_type": "execute_result"
    }
   ],
   "source": [
    " max_num(4598,1236,7895)"
   ]
  },
  {
   "cell_type": "code",
   "execution_count": null,
   "metadata": {},
   "outputs": [],
   "source": []
  }
 ],
 "metadata": {
  "kernelspec": {
   "display_name": "Python 3",
   "language": "python",
   "name": "python3"
  },
  "language_info": {
   "codemirror_mode": {
    "name": "ipython",
    "version": 3
   },
   "file_extension": ".py",
   "mimetype": "text/x-python",
   "name": "python",
   "nbconvert_exporter": "python",
   "pygments_lexer": "ipython3",
   "version": "3.7.6"
  }
 },
 "nbformat": 4,
 "nbformat_minor": 4
}
